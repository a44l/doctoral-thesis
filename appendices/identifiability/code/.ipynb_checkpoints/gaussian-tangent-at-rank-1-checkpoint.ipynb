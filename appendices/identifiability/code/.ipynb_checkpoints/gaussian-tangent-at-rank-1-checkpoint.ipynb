{
 "cells": [
  {
   "cell_type": "markdown",
   "metadata": {},
   "source": [
    "## Gaussian tangent space at rank-1 covariance forms\n",
    "\n",
    "Consider the polynomial parametrization of the degree-6 Gaussian moment variety $s(q, \\ell) = 15q^3 + 45q^2\\ell^2 + 15q\\ell^4 + \\ell^6$. This script is to show that for general linear forms $\\ell$ and for quadratic forms $q$ which are the **square of a general linear form** $l$, i.e. $q = l^2$, the map $T_s(q, \\ell)$ of tangent spaces induced by $s$ is a surjection. As mentioned in `Section 3.3` of the thesis, it suffices to show the claim in two variables, i.e. $\\ell = X$ and $l = Y$. We know from `Section 3.3` that the dimension of the degree-6 Gaussian moment variety equals the number of parameters and is thus 5 in the bivariate case. The following computes that the tangent map has rank 5, too:"
   ]
  },
  {
   "cell_type": "code",
   "execution_count": 1,
   "metadata": {},
   "outputs": [],
   "source": [
    "using DynamicPolynomials, SparseArrays, Plots, DataFrames, CSV, JLD2, FileIO;\n",
    "include(\"gaussian-moments.jl\");"
   ]
  },
  {
   "cell_type": "code",
   "execution_count": 2,
   "metadata": {},
   "outputs": [],
   "source": [
    "@polyvar X Y;\n",
    "vars = [X; Y];"
   ]
  },
  {
   "cell_type": "code",
   "execution_count": 3,
   "metadata": {},
   "outputs": [
    {
     "name": "stdout",
     "output_type": "stream",
     "text": [
      "Dimension of the Gaussian Moment variety in 2 variables: 5\n",
      "Tangent space dimension of the Gaussian Moment variety at (X, Y): 5\n"
     ]
    }
   ],
   "source": [
    "moments_6(q, ℓ) = 15q^3 + 45q^2*ℓ^2 + 15q*ℓ^4 + ℓ^6;\n",
    "f(q, ℓ) = 3q^2 + 6q*ℓ^2 + ℓ^4;\n",
    "g(q, ℓ) = 15q^2*ℓ + 10q*ℓ^3 + ℓ^5;\n",
    "d = 6;\n",
    "\n",
    "gaussian_moment_dimension = length(monomials(vars, 1:2));\n",
    "A = f_ideal(1.0Y^2, X, vars);\n",
    "B = g_ideal(1.0Y^2, X, vars);\n",
    "tangent_dim = rank(hcat(A, B));\n",
    "println(\"Dimension of the Gaussian Moment variety in $(length(vars)) variables: $(gaussian_moment_dimension)\");\n",
    "println(\"Tangent space dimension of the Gaussian Moment variety at (X, Y): $(tangent_dim)\");\n",
    "\n"
   ]
  },
  {
   "cell_type": "code",
   "execution_count": 4,
   "metadata": {},
   "outputs": [
    {
     "data": {
      "text/plain": [
       "7×5 SparseMatrixCSC{Float64, Int64} with 15 stored entries:\n",
       " 1.0   ⋅    ⋅    1.0    ⋅ \n",
       "  ⋅   1.0   ⋅     ⋅    1.0\n",
       " 6.0   ⋅   1.0  10.0    ⋅ \n",
       "  ⋅   6.0   ⋅     ⋅   10.0\n",
       " 3.0   ⋅   6.0  15.0    ⋅ \n",
       "  ⋅   3.0   ⋅     ⋅   15.0\n",
       "  ⋅    ⋅   3.0    ⋅     ⋅ "
      ]
     },
     "execution_count": 4,
     "metadata": {},
     "output_type": "execute_result"
    }
   ],
   "source": [
    "hcat(A, B)"
   ]
  },
  {
   "cell_type": "code",
   "execution_count": 5,
   "metadata": {},
   "outputs": [
    {
     "name": "stdout",
     "output_type": "stream",
     "text": [
      "Dimension of the Gaussian Moment variety in 2 variables: 5\n",
      "Tangent space dimension of the Gaussian Moment variety at (X, Y): 5\n"
     ]
    }
   ],
   "source": [
    "# the same procedure for degree 7\n",
    "moments_7(q, ℓ) = ℓ^7 + 21*q*ℓ^5 + 105*q^2*ℓ^3 + 105*q^3*ℓ\n",
    "f(q, ℓ) = 15q^2*ℓ + 10q*ℓ^3 + ℓ^5\n",
    "g(q, ℓ) = 15q^3 + 45q^2*ℓ^2 + 15q*ℓ^4 + ℓ^6\n",
    "d = 7\n",
    "gaussian_moment_dimension = length(monomials(vars, 1:2));\n",
    "A = f_ideal(1.0Y^2, X, vars)\n",
    "B = g_ideal(1.0Y^2, X, vars)\n",
    "println(\"Dimension of the Gaussian Moment variety in $(length(vars)) variables: $(gaussian_moment_dimension)\");\n",
    "println(\"Tangent space dimension of the Gaussian Moment variety at (X, Y): $(tangent_dim)\");"
   ]
  },
  {
   "cell_type": "code",
   "execution_count": 6,
   "metadata": {},
   "outputs": [
    {
     "data": {
      "text/plain": [
       "8×5 SparseMatrixCSC{Float64, Int64} with 17 stored entries:\n",
       "  1.0    ⋅     ⋅    1.0    ⋅ \n",
       "   ⋅    1.0    ⋅     ⋅    1.0\n",
       " 10.0    ⋅    1.0  15.0    ⋅ \n",
       "   ⋅   10.0    ⋅     ⋅   15.0\n",
       " 15.0    ⋅   10.0  45.0    ⋅ \n",
       "   ⋅   15.0    ⋅     ⋅   45.0\n",
       "   ⋅     ⋅   15.0  15.0    ⋅ \n",
       "   ⋅     ⋅     ⋅     ⋅   15.0"
      ]
     },
     "execution_count": 6,
     "metadata": {},
     "output_type": "execute_result"
    }
   ],
   "source": [
    "hcat(A, B)"
   ]
  }
 ],
 "metadata": {
  "kernelspec": {
   "display_name": "Julia 1.6.3",
   "language": "julia",
   "name": "julia-1.6"
  },
  "language_info": {
   "file_extension": ".jl",
   "mimetype": "application/julia",
   "name": "julia",
   "version": "1.6.3"
  }
 },
 "nbformat": 4,
 "nbformat_minor": 4
}
