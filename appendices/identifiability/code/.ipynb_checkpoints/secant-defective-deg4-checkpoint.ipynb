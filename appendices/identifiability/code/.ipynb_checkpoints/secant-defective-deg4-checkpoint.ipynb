{
 "cells": [
  {
   "cell_type": "markdown",
   "metadata": {},
   "source": [
    "## Degree 4 Gaussian moment secants are defective\n",
    "\n",
    "For fixed dimension $n$, this script calculates the maximum rank $m$ up to which secants of the degree-$4$ Gaussian moment variety have the expected dimension. This maximum rank appears to be 1, independent of $m$."
   ]
  },
  {
   "cell_type": "code",
   "execution_count": null,
   "metadata": {
    "collapsed": false,
    "jupyter": {
     "outputs_hidden": false
    }
   },
   "outputs": [],
   "source": [
    "using DynamicPolynomials, SparseArrays, Plots, DataFrames, CSV, JLD2, FileIO;\n",
    "const d = 4;\n",
    "const moments_d(q, ℓ) = ℓ^4 + 6*q*ℓ^2 + 3*q^2; # degree 4 moments  \n",
    "const f(q, ℓ) = ℓ^2 + q;\n",
    "const g(q, ℓ) = ℓ^3 + 3*q*ℓ;\n",
    "include(\"gaussian-moments.jl\")"
   ]
  },
  {
   "cell_type": "code",
   "execution_count": null,
   "metadata": {},
   "outputs": [],
   "source": [
    "filepath_csv = \"../testdata/secant-dimensions-deg4-maxnondefective.csv\";\n",
    "filepath_jld = \"../testdata/skewsecants-deg4-maxnondefective.jld2\";"
   ]
  },
  {
   "cell_type": "code",
   "execution_count": null,
   "metadata": {
    "collapsed": false,
    "jupyter": {
     "outputs_hidden": false
    }
   },
   "outputs": [],
   "source": [
    "n_min = 2;\n",
    "n_max = 14;\n",
    "@polyvar X[1:n_max];\n",
    "\n",
    "restart = false; # set this to true in order to overwrite results of previous computations and start from scratch\n",
    "initdf = DataFrame(:n=>Int[], :max_nondefective_rank => Int[], :max_nondefective_secant_dim=>Int[], :next_exp_dim =>Int[], :next_secant_dim=>Int[], :parameter_counting_rank => Int[]);\n",
    "df = initdf;\n",
    "if isfile(filepath_csv)\n",
    "    df = DataFrame(CSV.read(filepath_csv, DataFrame))\n",
    "    if restart || (size(df, 1) == 0)\n",
    "        df = initdf;\n",
    "        CSV.write(filepath_csv, df)\n",
    "    end\n",
    "else \n",
    "    CSV.write(filepath_csv, df)\n",
    "end\n",
    "is_secant_dim_computed(i) = i∈df.n\n",
    "\n",
    "for i = n_min:n_max\n",
    "    # check if the values have already been computed before\n",
    "    if is_secant_dim_computed(i)\n",
    "        continue;\n",
    "    end\n",
    "    dim, exp_dim, m, A, B = secant_tangent_dimension_general(i, X[1:i])\n",
    "\n",
    "    M = length(monomials(X[1:i], 1:2));\n",
    "    N = length(monomials(X[1:i], d));\n",
    "    dim, exp_dim, m = 0, 0, 0\n",
    "    new_row = DataFrame();\n",
    "    A, B =  SparseMatrixCSC{Float64, Int64}, SparseMatrixCSC{Float64, Int64}\n",
    "    while dim == exp_dim\n",
    "        max_nondef_rank = m;\n",
    "        max_nondef_secant_dim = dim;\n",
    "        m += 1;\n",
    "        dim, exp_dim, m, A, B = secant_tangent_dimension_general(i, X[1:i], m);\n",
    "        new_row = DataFrame(:n=>[i], :max_nondefective_rank => [max_nondef_rank], :max_nondefective_secant_dim=>[max_nondef_secant_dim], :next_exp_dim =>[exp_dim], :next_secant_dim=>[dim], :parameter_counting_rank =>[Int(floor(N/M))])\n",
    "    end\n",
    "    append!(df, new_row)\n",
    "    CSV.write(filepath_csv, new_row; append=true)\n",
    "end\n"
   ]
  },
  {
   "cell_type": "code",
   "execution_count": null,
   "metadata": {
    "collapsed": false,
    "jupyter": {
     "outputs_hidden": false
    }
   },
   "outputs": [],
   "source": [
    "plot(n_min:n_max, df.next_exp_dim, seriestype=:scatter)\n",
    "plot!(n_min:n_max, df.next_secant_dim, seriestype=:scatter)"
   ]
  },
  {
   "cell_type": "code",
   "execution_count": null,
   "metadata": {},
   "outputs": [],
   "source": [
    "df"
   ]
  }
 ],
 "metadata": {
  "kernelspec": {
   "display_name": "Julia 1.6.3",
   "language": "julia",
   "name": "julia-1.6"
  },
  "language_info": {
   "file_extension": ".jl",
   "mimetype": "application/julia",
   "name": "julia",
   "version": "1.6.3"
  }
 },
 "nbformat": 4,
 "nbformat_minor": 4
}
