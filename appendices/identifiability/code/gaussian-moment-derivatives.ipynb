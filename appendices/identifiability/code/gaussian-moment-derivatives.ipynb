{
 "cells": [
  {
   "cell_type": "markdown",
   "metadata": {},
   "source": [
    "## Gaussian moment derivatives\n",
    "This script creates bivariate (2, 1)-weighted homogeneous polynomial expressions $p_d(q, \\ell)$ with integer coefficients such that for a Gaussian random variable whose degree-1 moment form is $\\ell$ and whose covariance form is $q$, the degree-$d$ moment form is $p_d(q, \\ell)$, up to a scalar. The moment forms are saved in `df.moments`. The table also stores the $q$- and $\\ell$-derivatives of $p_d(q, \\ell)$, from which a formal expression for elements of the tangent space at a general point $p_d(q, \\ell)$ of the degree-$d$ Gaussian moment variety may be obtained. "
   ]
  },
  {
   "cell_type": "code",
   "execution_count": 3,
   "metadata": {},
   "outputs": [],
   "source": [
    "using DynamicPolynomials, LinearAlgebra, DataFrames, CSV, JLD2, FileIO;"
   ]
  },
  {
   "cell_type": "code",
   "execution_count": 7,
   "metadata": {},
   "outputs": [
    {
     "data": {
      "text/plain": [
       "\"../data/csv/gaussian-moment-derivatives.csv\""
      ]
     },
     "execution_count": 7,
     "metadata": {},
     "output_type": "execute_result"
    }
   ],
   "source": [
    "df = DataFrame(:degree=>Int[], :moments=>Polynomial{true, Int64}[], :l_derivative_normalized=>Polynomial{true, Int64}[], :q_derivative_normalized =>Polynomial{true, Int64}[], :tangent=>Polynomial{true, Int64}[])\n",
    "@polyvar q ℓ p h\n",
    "const monoms_degree(d::Int) = filter(m-> d == (2degree(m, q) + degree(m, ℓ)), monomials([q, ℓ], 1:d))\n",
    "d_max = 8\n",
    "mom_gen_series = sum(1/factorial(k)*(q/2 + ℓ)^k for k = 1:d_max)\n",
    "\n",
    "for d=1:d_max\n",
    "    monoms_degree(d)\n",
    "    # rescale coefficients by d! to make them integers\n",
    "    coeffs_rescaled = factorial(d).*coefficients(mom_gen_series, monoms_degree(d))\n",
    "    coeffs_int = Int.(round.(coeffs_rescaled, digits=0))\n",
    "    moments = coeffs_int⋅monoms_degree(d);\n",
    "    q_derivative = differentiate(moments, q);\n",
    "    q_derivative = polynomial(q_derivative/max(d*(d-1)/2, 1), Int);\n",
    "    l_derivative = differentiate(moments, ℓ);\n",
    "    l_derivative = polynomial(l_derivative/d, Int);\n",
    "    tangent = p*q_derivative + h*l_derivative;\n",
    "    new_row = DataFrame(:degree=>[d], :moments=>[moments], :l_derivative_normalized=>[l_derivative], :q_derivative_normalized=>[q_derivative], :tangent=>[tangent]);\n",
    "    append!(df, new_row)\n",
    "end\n",
    "# uncomment to overwrite the data file in the appendix\n",
    "# CSV.write(\"../data/gaussian-moment-derivatives.csv\", df) "
   ]
  },
  {
   "cell_type": "code",
   "execution_count": 8,
   "metadata": {},
   "outputs": [
    {
     "data": {
      "text/html": [
       "<table class=\"data-frame\"><thead><tr><th></th><th>degree</th><th>moments</th><th>l_derivative_normalized</th><th>q_derivative_normalized</th></tr><tr><th></th><th>Int64</th><th>Polynom…</th><th>Polynom…</th><th>Polynom…</th></tr></thead><tbody><p>8 rows × 5 columns (omitted printing of 1 columns)</p><tr><th>1</th><td>1</td><td>ℓ</td><td>1</td><td>0</td></tr><tr><th>2</th><td>2</td><td>ℓ² + q</td><td>ℓ</td><td>1</td></tr><tr><th>3</th><td>3</td><td>ℓ³ + 3qℓ</td><td>ℓ² + q</td><td>ℓ</td></tr><tr><th>4</th><td>4</td><td>ℓ⁴ + 6qℓ² + 3q²</td><td>ℓ³ + 3qℓ</td><td>ℓ² + q</td></tr><tr><th>5</th><td>5</td><td>ℓ⁵ + 10qℓ³ + 15q²ℓ</td><td>ℓ⁴ + 6qℓ² + 3q²</td><td>ℓ³ + 3qℓ</td></tr><tr><th>6</th><td>6</td><td>ℓ⁶ + 15qℓ⁴ + 45q²ℓ² + 15q³</td><td>ℓ⁵ + 10qℓ³ + 15q²ℓ</td><td>ℓ⁴ + 6qℓ² + 3q²</td></tr><tr><th>7</th><td>7</td><td>ℓ⁷ + 21qℓ⁵ + 105q²ℓ³ + 105q³ℓ</td><td>ℓ⁶ + 15qℓ⁴ + 45q²ℓ² + 15q³</td><td>ℓ⁵ + 10qℓ³ + 15q²ℓ</td></tr><tr><th>8</th><td>8</td><td>ℓ⁸ + 28qℓ⁶ + 210q²ℓ⁴ + 420q³ℓ² + 105q⁴</td><td>ℓ⁷ + 21qℓ⁵ + 105q²ℓ³ + 105q³ℓ</td><td>ℓ⁶ + 15qℓ⁴ + 45q²ℓ² + 15q³</td></tr></tbody></table>"
      ],
      "text/latex": [
       "\\begin{tabular}{r|ccccc}\n",
       "\t& degree & moments & l\\_derivative\\_normalized & q\\_derivative\\_normalized & \\\\\n",
       "\t\\hline\n",
       "\t& Int64 & Polynom… & Polynom… & Polynom… & \\\\\n",
       "\t\\hline\n",
       "\t1 & 1 & $$ ℓ $$ & $$ 1 $$ & $$ 0 $$ & $\\dots$ \\\\\n",
       "\t2 & 2 & $$ ℓ^{2} + q $$ & $$ ℓ $$ & $$ 1 $$ & $\\dots$ \\\\\n",
       "\t3 & 3 & $$ ℓ^{3} + 3qℓ $$ & $$ ℓ^{2} + q $$ & $$ ℓ $$ & $\\dots$ \\\\\n",
       "\t4 & 4 & $$ ℓ^{4} + 6qℓ^{2} + 3q^{2} $$ & $$ ℓ^{3} + 3qℓ $$ & $$ ℓ^{2} + q $$ & $\\dots$ \\\\\n",
       "\t5 & 5 & $$ ℓ^{5} + 10qℓ^{3} + 15q^{2}ℓ $$ & $$ ℓ^{4} + 6qℓ^{2} + 3q^{2} $$ & $$ ℓ^{3} + 3qℓ $$ & $\\dots$ \\\\\n",
       "\t6 & 6 & $$ ℓ^{6} + 15qℓ^{4} + 45q^{2}ℓ^{2} + 15q^{3} $$ & $$ ℓ^{5} + 10qℓ^{3} + 15q^{2}ℓ $$ & $$ ℓ^{4} + 6qℓ^{2} + 3q^{2} $$ & $\\dots$ \\\\\n",
       "\t7 & 7 & $$ ℓ^{7} + 21qℓ^{5} + 105q^{2}ℓ^{3} + 105q^{3}ℓ $$ & $$ ℓ^{6} + 15qℓ^{4} + 45q^{2}ℓ^{2} + 15q^{3} $$ & $$ ℓ^{5} + 10qℓ^{3} + 15q^{2}ℓ $$ & $\\dots$ \\\\\n",
       "\t8 & 8 & $$ ℓ^{8} + 28qℓ^{6} + 210q^{2}ℓ^{4} + 420q^{3}ℓ^{2} + 105q^{4} $$ & $$ ℓ^{7} + 21qℓ^{5} + 105q^{2}ℓ^{3} + 105q^{3}ℓ $$ & $$ ℓ^{6} + 15qℓ^{4} + 45q^{2}ℓ^{2} + 15q^{3} $$ & $\\dots$ \\\\\n",
       "\\end{tabular}\n"
      ],
      "text/plain": [
       "8×5 DataFrame. Omitted printing of 3 columns\n",
       "│ Row │ degree │ moments                                │\n",
       "│     │ \u001b[90mInt64\u001b[39m  │ \u001b[90mPolynomial{true, Int64}\u001b[39m                │\n",
       "├─────┼────────┼────────────────────────────────────────┤\n",
       "│ 1   │ 1      │ ℓ                                      │\n",
       "│ 2   │ 2      │ ℓ² + q                                 │\n",
       "│ 3   │ 3      │ ℓ³ + 3qℓ                               │\n",
       "│ 4   │ 4      │ ℓ⁴ + 6qℓ² + 3q²                        │\n",
       "│ 5   │ 5      │ ℓ⁵ + 10qℓ³ + 15q²ℓ                     │\n",
       "│ 6   │ 6      │ ℓ⁶ + 15qℓ⁴ + 45q²ℓ² + 15q³             │\n",
       "│ 7   │ 7      │ ℓ⁷ + 21qℓ⁵ + 105q²ℓ³ + 105q³ℓ          │\n",
       "│ 8   │ 8      │ ℓ⁸ + 28qℓ⁶ + 210q²ℓ⁴ + 420q³ℓ² + 105q⁴ │"
      ]
     },
     "execution_count": 8,
     "metadata": {},
     "output_type": "execute_result"
    }
   ],
   "source": [
    "df"
   ]
  }
 ],
 "metadata": {
  "kernelspec": {
   "display_name": "Julia 1.6.3",
   "language": "julia",
   "name": "julia-1.6"
  },
  "language_info": {
   "file_extension": ".jl",
   "mimetype": "application/julia",
   "name": "julia",
   "version": "1.6.3"
  }
 },
 "nbformat": 4,
 "nbformat_minor": 4
}
