{
 "cells": [
  {
   "cell_type": "markdown",
   "metadata": {},
   "source": [
    "## Pointedness of Sum-of-Squares Cones Modulo Quadratic Forms\n",
    "\n",
    "This script accompanies `Section 3.4` of the thesis and computes the dimension of the dual degree-$4$ Sum-of-Squares cone $\\Sigma_{R, 4}^{\\ast}$ in $R := \\mathbb R[X]/(q_1,\\ldots, q_m)$, where $q_1,\\ldots, q_m$ are quadratic forms in variables $X = (X_1,\\ldots, X_n)$. A semidefinite program is solved which (effectively) computes an interior point of $\\Sigma_{R, 4}^{\\ast}$. This interior point may be pulled back to an element of $\\Sigma_{\\mathbb R[X], 4}^{\\ast}$ and then represented via some ${n+1\\choose 2}\\times{n+1\\choose 2} $ psd moment matrix $E$. The kernel of $E$ must always have dimension at least $m$. $\\Sigma_{R, 4}^{\\ast}$ is pointed if and only if the kernel has dimension **precisely** $m$. \n",
    "\n",
    "Several instances of $m$ iid trace-free quadratics $q_1,\\ldots, q_m$ each are sampled, for which the resulting kernel dimensions are computed and recorded. This allows to estimate the probability that the Sum-of-Squares cone is pointed (with respect to the iid trace-free distribution). The results are discussed in `Section 3.4`. Note that since semidefinite programming is a numerical method, one has to carefully choose a treashold $\\varepsilon > 0$ determining which Eigenvalues count as zero and which not. In the following, $\\varepsilon = 10^{-6}$ was used.   "
   ]
  },
  {
   "cell_type": "code",
   "execution_count": 135,
   "metadata": {},
   "outputs": [],
   "source": [
    "using JuMP, DynamicPolynomials, MosekTools, LinearAlgebra, Random, DataFrames, CSV, StatsBase"
   ]
  },
  {
   "cell_type": "code",
   "execution_count": 97,
   "metadata": {},
   "outputs": [],
   "source": [
    "gaussian_trace0_quadratic = function(variables)\n",
    "    n = length(variables);\n",
    "    A = randn(n,n);\n",
    "    A = A-1/n*tr(A)*I;\n",
    "    return variables'*A*variables\n",
    "end;"
   ]
  },
  {
   "cell_type": "code",
   "execution_count": 125,
   "metadata": {},
   "outputs": [
    {
     "data": {
      "text/plain": [
       "#573 (generic function with 2 methods)"
      ]
     },
     "execution_count": 125,
     "metadata": {},
     "output_type": "execute_result"
    }
   ],
   "source": [
    "\n",
    "calc_face_dimension = function(n, m, ε=10^(-6))\n",
    "    M = binomial(n+1, 2);\n",
    "    @polyvar X[1:n];\n",
    "    Q = [gaussian_trace0_quadratic(X) for i=1:m];\n",
    "    p = sum(q^2 for q in Q)\n",
    "    mon(k) = reverse(monomials(X, k));\n",
    "    monoms = mon(4); \n",
    "    N = length(monoms);  # N = binomial(n+3, 4);\n",
    "    model = Model(Mosek.Optimizer);\n",
    "    set_silent(model); # comment to get solver output\n",
    "    @variable(model, λ[1:N]);\n",
    "    lin_vars = Dict([monom=>value for (monom, value) in zip(monoms,  λ[1:N])])\n",
    "    𝔼(p) = coefficients(p, collect(keys(lin_vars))) ⋅ collect(values(lin_vars))\n",
    "    linearize_moment_matrix = function(moment_matrix)\n",
    "        return [lin_vars[m] for m in moment_matrix];\n",
    "    end\n",
    "    @constraint(model, linearize_moment_matrix(mon(2)*mon(2)') in PSDCone());\n",
    "    @constraint(model, 𝔼(p) == 0);\n",
    "    @constraint(model, 𝔼(X[1]^4) == 1);\n",
    "\n",
    "    optimize!(model)\n",
    "    term_status = termination_status(model);\n",
    "\n",
    "    mom_mat = mon(2)*mon(2)';\n",
    "    E = value.(linearize_moment_matrix(mom_mat))\n",
    "    eigs = eigen(E).values\n",
    "    \n",
    "    face_codimension = sum(abs.(eigs) .< ε)\n",
    "    max_trunc_eig = max(0, filter(x->x<ε, eigs)...) \n",
    "    max_nontrunc_eig = max(0, filter(x->x>=ε, eigs)...) \n",
    "    df = DataFrame([:n=>[n], :m=>[m], :space_dim=>[M], :codim=>[face_codimension], :relative_codim=>[face_codimension-m], :max_nontrunc_eig=>[max_nontrunc_eig], :max_trunc_eig=>[max_trunc_eig],  :solver_status=>[term_status]])\n",
    "    return df, E, p, Q\n",
    "end"
   ]
  },
  {
   "cell_type": "code",
   "execution_count": 130,
   "metadata": {},
   "outputs": [
    {
     "data": {
      "text/html": [
       "<div class=\"data-frame\"><p>200 rows × 8 columns</p><table class=\"data-frame\"><thead><tr><th></th><th>n</th><th>m</th><th>space_dim</th><th>codim</th><th>relative_codim</th><th>max_nontrunc_eig</th><th>max_trunc_eig</th><th>solver_status</th></tr><tr><th></th><th title=\"Any\">Any</th><th title=\"Any\">Any</th><th title=\"Any\">Any</th><th title=\"Any\">Any</th><th title=\"Any\">Any</th><th title=\"Any\">Any</th><th title=\"Any\">Any</th><th title=\"Any\">Any</th></tr></thead><tbody><tr><th>1</th><td>7</td><td>6</td><td>28</td><td>6</td><td>0</td><td>5.78522</td><td>1.37549e-10</td><td>OPTIMAL</td></tr><tr><th>2</th><td>7</td><td>6</td><td>28</td><td>6</td><td>0</td><td>3.01178</td><td>2.03227e-8</td><td>OPTIMAL</td></tr><tr><th>3</th><td>7</td><td>6</td><td>28</td><td>6</td><td>0</td><td>2.15659</td><td>6.05518e-9</td><td>OPTIMAL</td></tr><tr><th>4</th><td>7</td><td>6</td><td>28</td><td>6</td><td>0</td><td>4.55693</td><td>9.75288e-10</td><td>OPTIMAL</td></tr><tr><th>5</th><td>7</td><td>6</td><td>28</td><td>21</td><td>15</td><td>3.33686</td><td>6.12048e-7</td><td>OPTIMAL</td></tr><tr><th>6</th><td>7</td><td>6</td><td>28</td><td>6</td><td>0</td><td>4.39117</td><td>1.31655e-9</td><td>OPTIMAL</td></tr><tr><th>7</th><td>7</td><td>6</td><td>28</td><td>6</td><td>0</td><td>4.2264</td><td>2.47324e-9</td><td>OPTIMAL</td></tr><tr><th>8</th><td>7</td><td>6</td><td>28</td><td>6</td><td>0</td><td>4.90418</td><td>1.64558e-8</td><td>OPTIMAL</td></tr><tr><th>9</th><td>7</td><td>6</td><td>28</td><td>6</td><td>0</td><td>5.10506</td><td>3.53389e-9</td><td>OPTIMAL</td></tr><tr><th>10</th><td>7</td><td>6</td><td>28</td><td>6</td><td>0</td><td>18.3346</td><td>3.29956e-9</td><td>OPTIMAL</td></tr><tr><th>11</th><td>7</td><td>6</td><td>28</td><td>6</td><td>0</td><td>2.80256</td><td>8.76266e-10</td><td>OPTIMAL</td></tr><tr><th>12</th><td>7</td><td>6</td><td>28</td><td>6</td><td>0</td><td>3.23708</td><td>1.53419e-8</td><td>OPTIMAL</td></tr><tr><th>13</th><td>7</td><td>6</td><td>28</td><td>6</td><td>0</td><td>6.173</td><td>7.97325e-9</td><td>OPTIMAL</td></tr><tr><th>14</th><td>7</td><td>6</td><td>28</td><td>6</td><td>0</td><td>7.28737</td><td>1.68025e-8</td><td>OPTIMAL</td></tr><tr><th>15</th><td>7</td><td>6</td><td>28</td><td>6</td><td>0</td><td>5.89001</td><td>5.24531e-10</td><td>OPTIMAL</td></tr><tr><th>16</th><td>7</td><td>6</td><td>28</td><td>6</td><td>0</td><td>2.64821</td><td>2.14866e-8</td><td>OPTIMAL</td></tr><tr><th>17</th><td>7</td><td>6</td><td>28</td><td>6</td><td>0</td><td>3.01397</td><td>8.76931e-10</td><td>OPTIMAL</td></tr><tr><th>18</th><td>7</td><td>6</td><td>28</td><td>6</td><td>0</td><td>5.11059</td><td>1.7202e-9</td><td>OPTIMAL</td></tr><tr><th>19</th><td>7</td><td>6</td><td>28</td><td>6</td><td>0</td><td>19.6544</td><td>1.55125e-8</td><td>OPTIMAL</td></tr><tr><th>20</th><td>7</td><td>6</td><td>28</td><td>6</td><td>0</td><td>3.67136</td><td>3.74414e-9</td><td>OPTIMAL</td></tr><tr><th>21</th><td>7</td><td>6</td><td>28</td><td>6</td><td>0</td><td>8.01501</td><td>1.3206e-9</td><td>OPTIMAL</td></tr><tr><th>22</th><td>7</td><td>6</td><td>28</td><td>6</td><td>0</td><td>3.3738</td><td>9.62529e-9</td><td>OPTIMAL</td></tr><tr><th>23</th><td>7</td><td>6</td><td>28</td><td>6</td><td>0</td><td>5.11622</td><td>1.92326e-9</td><td>OPTIMAL</td></tr><tr><th>24</th><td>7</td><td>6</td><td>28</td><td>6</td><td>0</td><td>4.82307</td><td>1.39827e-8</td><td>OPTIMAL</td></tr><tr><th>25</th><td>7</td><td>6</td><td>28</td><td>6</td><td>0</td><td>6.2912</td><td>5.34453e-9</td><td>OPTIMAL</td></tr><tr><th>26</th><td>7</td><td>6</td><td>28</td><td>6</td><td>0</td><td>3.11376</td><td>9.62308e-10</td><td>OPTIMAL</td></tr><tr><th>27</th><td>7</td><td>6</td><td>28</td><td>6</td><td>0</td><td>3.61608</td><td>4.61461e-9</td><td>OPTIMAL</td></tr><tr><th>28</th><td>7</td><td>6</td><td>28</td><td>6</td><td>0</td><td>4.81523</td><td>2.72902e-8</td><td>OPTIMAL</td></tr><tr><th>29</th><td>7</td><td>6</td><td>28</td><td>6</td><td>0</td><td>3.25259</td><td>3.07215e-8</td><td>OPTIMAL</td></tr><tr><th>30</th><td>7</td><td>6</td><td>28</td><td>6</td><td>0</td><td>2.61826</td><td>5.82923e-9</td><td>OPTIMAL</td></tr><tr><th>&vellip;</th><td>&vellip;</td><td>&vellip;</td><td>&vellip;</td><td>&vellip;</td><td>&vellip;</td><td>&vellip;</td><td>&vellip;</td><td>&vellip;</td></tr></tbody></table></div>"
      ],
      "text/latex": [
       "\\begin{tabular}{r|cccccccc}\n",
       "\t& n & m & space\\_dim & codim & relative\\_codim & max\\_nontrunc\\_eig & max\\_trunc\\_eig & solver\\_status\\\\\n",
       "\t\\hline\n",
       "\t& Any & Any & Any & Any & Any & Any & Any & Any\\\\\n",
       "\t\\hline\n",
       "\t1 & 7 & 6 & 28 & 6 & 0 & 5.78522 & 1.37549e-10 & OPTIMAL \\\\\n",
       "\t2 & 7 & 6 & 28 & 6 & 0 & 3.01178 & 2.03227e-8 & OPTIMAL \\\\\n",
       "\t3 & 7 & 6 & 28 & 6 & 0 & 2.15659 & 6.05518e-9 & OPTIMAL \\\\\n",
       "\t4 & 7 & 6 & 28 & 6 & 0 & 4.55693 & 9.75288e-10 & OPTIMAL \\\\\n",
       "\t5 & 7 & 6 & 28 & 21 & 15 & 3.33686 & 6.12048e-7 & OPTIMAL \\\\\n",
       "\t6 & 7 & 6 & 28 & 6 & 0 & 4.39117 & 1.31655e-9 & OPTIMAL \\\\\n",
       "\t7 & 7 & 6 & 28 & 6 & 0 & 4.2264 & 2.47324e-9 & OPTIMAL \\\\\n",
       "\t8 & 7 & 6 & 28 & 6 & 0 & 4.90418 & 1.64558e-8 & OPTIMAL \\\\\n",
       "\t9 & 7 & 6 & 28 & 6 & 0 & 5.10506 & 3.53389e-9 & OPTIMAL \\\\\n",
       "\t10 & 7 & 6 & 28 & 6 & 0 & 18.3346 & 3.29956e-9 & OPTIMAL \\\\\n",
       "\t11 & 7 & 6 & 28 & 6 & 0 & 2.80256 & 8.76266e-10 & OPTIMAL \\\\\n",
       "\t12 & 7 & 6 & 28 & 6 & 0 & 3.23708 & 1.53419e-8 & OPTIMAL \\\\\n",
       "\t13 & 7 & 6 & 28 & 6 & 0 & 6.173 & 7.97325e-9 & OPTIMAL \\\\\n",
       "\t14 & 7 & 6 & 28 & 6 & 0 & 7.28737 & 1.68025e-8 & OPTIMAL \\\\\n",
       "\t15 & 7 & 6 & 28 & 6 & 0 & 5.89001 & 5.24531e-10 & OPTIMAL \\\\\n",
       "\t16 & 7 & 6 & 28 & 6 & 0 & 2.64821 & 2.14866e-8 & OPTIMAL \\\\\n",
       "\t17 & 7 & 6 & 28 & 6 & 0 & 3.01397 & 8.76931e-10 & OPTIMAL \\\\\n",
       "\t18 & 7 & 6 & 28 & 6 & 0 & 5.11059 & 1.7202e-9 & OPTIMAL \\\\\n",
       "\t19 & 7 & 6 & 28 & 6 & 0 & 19.6544 & 1.55125e-8 & OPTIMAL \\\\\n",
       "\t20 & 7 & 6 & 28 & 6 & 0 & 3.67136 & 3.74414e-9 & OPTIMAL \\\\\n",
       "\t21 & 7 & 6 & 28 & 6 & 0 & 8.01501 & 1.3206e-9 & OPTIMAL \\\\\n",
       "\t22 & 7 & 6 & 28 & 6 & 0 & 3.3738 & 9.62529e-9 & OPTIMAL \\\\\n",
       "\t23 & 7 & 6 & 28 & 6 & 0 & 5.11622 & 1.92326e-9 & OPTIMAL \\\\\n",
       "\t24 & 7 & 6 & 28 & 6 & 0 & 4.82307 & 1.39827e-8 & OPTIMAL \\\\\n",
       "\t25 & 7 & 6 & 28 & 6 & 0 & 6.2912 & 5.34453e-9 & OPTIMAL \\\\\n",
       "\t26 & 7 & 6 & 28 & 6 & 0 & 3.11376 & 9.62308e-10 & OPTIMAL \\\\\n",
       "\t27 & 7 & 6 & 28 & 6 & 0 & 3.61608 & 4.61461e-9 & OPTIMAL \\\\\n",
       "\t28 & 7 & 6 & 28 & 6 & 0 & 4.81523 & 2.72902e-8 & OPTIMAL \\\\\n",
       "\t29 & 7 & 6 & 28 & 6 & 0 & 3.25259 & 3.07215e-8 & OPTIMAL \\\\\n",
       "\t30 & 7 & 6 & 28 & 6 & 0 & 2.61826 & 5.82923e-9 & OPTIMAL \\\\\n",
       "\t$\\dots$ & $\\dots$ & $\\dots$ & $\\dots$ & $\\dots$ & $\\dots$ & $\\dots$ & $\\dots$ & $\\dots$ \\\\\n",
       "\\end{tabular}\n"
      ],
      "text/plain": [
       "\u001b[1m200×8 DataFrame\u001b[0m\n",
       "\u001b[1m Row \u001b[0m│\u001b[1m n   \u001b[0m\u001b[1m m   \u001b[0m\u001b[1m space_dim \u001b[0m\u001b[1m codim \u001b[0m\u001b[1m relative_codim \u001b[0m\u001b[1m max_nontrunc_eig \u001b[0m\u001b[1m max_trunc\u001b[0m ⋯\n",
       "\u001b[1m     \u001b[0m│\u001b[90m Any \u001b[0m\u001b[90m Any \u001b[0m\u001b[90m Any       \u001b[0m\u001b[90m Any   \u001b[0m\u001b[90m Any            \u001b[0m\u001b[90m Any              \u001b[0m\u001b[90m Any      \u001b[0m ⋯\n",
       "─────┼──────────────────────────────────────────────────────────────────────────\n",
       "   1 │ 7    6    28         6      0               5.78522           1.37549e- ⋯\n",
       "   2 │ 7    6    28         6      0               3.01178           2.03227e-\n",
       "   3 │ 7    6    28         6      0               2.15659           6.05518e-\n",
       "   4 │ 7    6    28         6      0               4.55693           9.75288e-\n",
       "   5 │ 7    6    28         21     15              3.33686           6.12048e- ⋯\n",
       "   6 │ 7    6    28         6      0               4.39117           1.31655e-\n",
       "   7 │ 7    6    28         6      0               4.2264            2.47324e-\n",
       "   8 │ 7    6    28         6      0               4.90418           1.64558e-\n",
       "   9 │ 7    6    28         6      0               5.10506           3.53389e- ⋯\n",
       "  10 │ 7    6    28         6      0               18.3346           3.29956e-\n",
       "  11 │ 7    6    28         6      0               2.80256           8.76266e-\n",
       "  ⋮  │  ⋮    ⋮       ⋮        ⋮          ⋮                ⋮                ⋮   ⋱\n",
       " 191 │ 7    6    28         6      0               3.87569           2.56069e-\n",
       " 192 │ 7    6    28         6      0               4.01541           1.80662e- ⋯\n",
       " 193 │ 7    6    28         6      0               6.32975           6.80573e-\n",
       " 194 │ 7    6    28         6      0               7.38104           6.39625e-\n",
       " 195 │ 7    6    28         6      0               5.93129           6.9788e-8\n",
       " 196 │ 7    6    28         6      0               2.89753           9.30289e- ⋯\n",
       " 197 │ 7    6    28         6      0               4.46821           1.18994e-\n",
       " 198 │ 7    6    28         6      0               2.31968           2.82884e-\n",
       " 199 │ 7    6    28         6      0               8.03824           2.23305e-\n",
       " 200 │ 7    6    28         6      0               8.0892            3.02631e- ⋯\n",
       "\u001b[36m                                                  2 columns and 179 rows omitted\u001b[0m"
      ]
     },
     "execution_count": 130,
     "metadata": {},
     "output_type": "execute_result"
    }
   ],
   "source": [
    "n = 7; \n",
    "m = 6; \n",
    "df_undercomplete = DataFrame([:n=>Int[], :m=>Int[], :space_dim=>Int[], :codim=>Int[], :relative_codim=>Int[], :max_nontrunc_eig=>Float64[], :max_trunc_eig=>Float64[], :solver_status=>[]])\n",
    "for i=1:200\n",
    "    new_row, E, p, Q  = calc_face_dimension(n, m, 10^(-6))\n",
    "    append!(df_undercomplete, new_row)\n",
    "    if df_undercomplete.relative_codim[i] < 0 # this should never happen, unless you chose the wrong truncation threshold\n",
    "        display(eigen(E));\n",
    "        display(p);\n",
    "        display(Q)\n",
    "        break;\n",
    "    end\n",
    "end\n",
    "df_undercomplete"
   ]
  },
  {
   "cell_type": "code",
   "execution_count": 159,
   "metadata": {},
   "outputs": [
    {
     "data": {
      "text/plain": [
       "0.985"
      ]
     },
     "execution_count": 159,
     "metadata": {},
     "output_type": "execute_result"
    }
   ],
   "source": [
    "mean(df_undercomplete.relative_codim .== 0)\n",
    "# CSV.write(\"pointedsos-uc-200series-1\", df_undercomplete)"
   ]
  },
  {
   "cell_type": "code",
   "execution_count": 160,
   "metadata": {},
   "outputs": [
    {
     "data": {
      "text/html": [
       "<div class=\"data-frame\"><p>200 rows × 8 columns</p><table class=\"data-frame\"><thead><tr><th></th><th>n</th><th>m</th><th>space_dim</th><th>codim</th><th>relative_codim</th><th>max_nontrunc_eig</th><th>max_trunc_eig</th><th>solver_status</th></tr><tr><th></th><th title=\"Any\">Any</th><th title=\"Any\">Any</th><th title=\"Any\">Any</th><th title=\"Any\">Any</th><th title=\"Any\">Any</th><th title=\"Any\">Any</th><th title=\"Any\">Any</th><th title=\"Any\">Any</th></tr></thead><tbody><tr><th>1</th><td>7</td><td>7</td><td>28</td><td>28</td><td>21</td><td>0</td><td>5.14033e-13</td><td>SLOW_PROGRESS</td></tr><tr><th>2</th><td>7</td><td>7</td><td>28</td><td>28</td><td>21</td><td>0</td><td>5.40477e-16</td><td>SLOW_PROGRESS</td></tr><tr><th>3</th><td>7</td><td>7</td><td>28</td><td>28</td><td>21</td><td>0</td><td>8.36882e-14</td><td>SLOW_PROGRESS</td></tr><tr><th>4</th><td>7</td><td>7</td><td>28</td><td>28</td><td>21</td><td>0</td><td>1.32804e-11</td><td>SLOW_PROGRESS</td></tr><tr><th>5</th><td>7</td><td>7</td><td>28</td><td>28</td><td>21</td><td>0</td><td>9.57808e-13</td><td>SLOW_PROGRESS</td></tr><tr><th>6</th><td>7</td><td>7</td><td>28</td><td>28</td><td>21</td><td>0</td><td>1.88432e-14</td><td>SLOW_PROGRESS</td></tr><tr><th>7</th><td>7</td><td>7</td><td>28</td><td>28</td><td>21</td><td>0</td><td>4.56176e-12</td><td>SLOW_PROGRESS</td></tr><tr><th>8</th><td>7</td><td>7</td><td>28</td><td>28</td><td>21</td><td>0</td><td>9.68511e-11</td><td>SLOW_PROGRESS</td></tr><tr><th>9</th><td>7</td><td>7</td><td>28</td><td>28</td><td>21</td><td>0</td><td>5.35412e-12</td><td>SLOW_PROGRESS</td></tr><tr><th>10</th><td>7</td><td>7</td><td>28</td><td>28</td><td>21</td><td>0</td><td>3.41175e-12</td><td>SLOW_PROGRESS</td></tr><tr><th>11</th><td>7</td><td>7</td><td>28</td><td>28</td><td>21</td><td>0</td><td>1.53542e-13</td><td>SLOW_PROGRESS</td></tr><tr><th>12</th><td>7</td><td>7</td><td>28</td><td>28</td><td>21</td><td>0</td><td>1.33369e-10</td><td>SLOW_PROGRESS</td></tr><tr><th>13</th><td>7</td><td>7</td><td>28</td><td>28</td><td>21</td><td>0</td><td>5.61289e-16</td><td>SLOW_PROGRESS</td></tr><tr><th>14</th><td>7</td><td>7</td><td>28</td><td>28</td><td>21</td><td>0</td><td>7.19858e-13</td><td>SLOW_PROGRESS</td></tr><tr><th>15</th><td>7</td><td>7</td><td>28</td><td>28</td><td>21</td><td>0</td><td>5.68781e-14</td><td>SLOW_PROGRESS</td></tr><tr><th>16</th><td>7</td><td>7</td><td>28</td><td>0</td><td>-7</td><td>1.13846e7</td><td>0.0</td><td>SLOW_PROGRESS</td></tr><tr><th>17</th><td>7</td><td>7</td><td>28</td><td>28</td><td>21</td><td>0</td><td>1.07052e-8</td><td>SLOW_PROGRESS</td></tr><tr><th>18</th><td>7</td><td>7</td><td>28</td><td>28</td><td>21</td><td>0</td><td>1.5038e-13</td><td>SLOW_PROGRESS</td></tr><tr><th>19</th><td>7</td><td>7</td><td>28</td><td>28</td><td>21</td><td>0</td><td>3.73083e-11</td><td>SLOW_PROGRESS</td></tr><tr><th>20</th><td>7</td><td>7</td><td>28</td><td>28</td><td>21</td><td>0</td><td>1.3982e-16</td><td>SLOW_PROGRESS</td></tr><tr><th>21</th><td>7</td><td>7</td><td>28</td><td>28</td><td>21</td><td>0</td><td>2.10574e-11</td><td>SLOW_PROGRESS</td></tr><tr><th>22</th><td>7</td><td>7</td><td>28</td><td>28</td><td>21</td><td>0</td><td>3.42597e-13</td><td>SLOW_PROGRESS</td></tr><tr><th>23</th><td>7</td><td>7</td><td>28</td><td>28</td><td>21</td><td>0</td><td>1.27755e-11</td><td>SLOW_PROGRESS</td></tr><tr><th>24</th><td>7</td><td>7</td><td>28</td><td>28</td><td>21</td><td>0</td><td>2.34463e-12</td><td>SLOW_PROGRESS</td></tr><tr><th>25</th><td>7</td><td>7</td><td>28</td><td>28</td><td>21</td><td>0</td><td>1.02733e-12</td><td>SLOW_PROGRESS</td></tr><tr><th>26</th><td>7</td><td>7</td><td>28</td><td>28</td><td>21</td><td>0</td><td>2.52116e-9</td><td>SLOW_PROGRESS</td></tr><tr><th>27</th><td>7</td><td>7</td><td>28</td><td>28</td><td>21</td><td>0</td><td>4.02593e-14</td><td>SLOW_PROGRESS</td></tr><tr><th>28</th><td>7</td><td>7</td><td>28</td><td>28</td><td>21</td><td>0</td><td>1.63149e-11</td><td>SLOW_PROGRESS</td></tr><tr><th>29</th><td>7</td><td>7</td><td>28</td><td>0</td><td>-7</td><td>59.3644</td><td>0.0</td><td>SLOW_PROGRESS</td></tr><tr><th>30</th><td>7</td><td>7</td><td>28</td><td>28</td><td>21</td><td>0</td><td>7.94701e-10</td><td>SLOW_PROGRESS</td></tr><tr><th>&vellip;</th><td>&vellip;</td><td>&vellip;</td><td>&vellip;</td><td>&vellip;</td><td>&vellip;</td><td>&vellip;</td><td>&vellip;</td><td>&vellip;</td></tr></tbody></table></div>"
      ],
      "text/latex": [
       "\\begin{tabular}{r|cccccccc}\n",
       "\t& n & m & space\\_dim & codim & relative\\_codim & max\\_nontrunc\\_eig & max\\_trunc\\_eig & solver\\_status\\\\\n",
       "\t\\hline\n",
       "\t& Any & Any & Any & Any & Any & Any & Any & Any\\\\\n",
       "\t\\hline\n",
       "\t1 & 7 & 7 & 28 & 28 & 21 & 0 & 5.14033e-13 & SLOW\\_PROGRESS \\\\\n",
       "\t2 & 7 & 7 & 28 & 28 & 21 & 0 & 5.40477e-16 & SLOW\\_PROGRESS \\\\\n",
       "\t3 & 7 & 7 & 28 & 28 & 21 & 0 & 8.36882e-14 & SLOW\\_PROGRESS \\\\\n",
       "\t4 & 7 & 7 & 28 & 28 & 21 & 0 & 1.32804e-11 & SLOW\\_PROGRESS \\\\\n",
       "\t5 & 7 & 7 & 28 & 28 & 21 & 0 & 9.57808e-13 & SLOW\\_PROGRESS \\\\\n",
       "\t6 & 7 & 7 & 28 & 28 & 21 & 0 & 1.88432e-14 & SLOW\\_PROGRESS \\\\\n",
       "\t7 & 7 & 7 & 28 & 28 & 21 & 0 & 4.56176e-12 & SLOW\\_PROGRESS \\\\\n",
       "\t8 & 7 & 7 & 28 & 28 & 21 & 0 & 9.68511e-11 & SLOW\\_PROGRESS \\\\\n",
       "\t9 & 7 & 7 & 28 & 28 & 21 & 0 & 5.35412e-12 & SLOW\\_PROGRESS \\\\\n",
       "\t10 & 7 & 7 & 28 & 28 & 21 & 0 & 3.41175e-12 & SLOW\\_PROGRESS \\\\\n",
       "\t11 & 7 & 7 & 28 & 28 & 21 & 0 & 1.53542e-13 & SLOW\\_PROGRESS \\\\\n",
       "\t12 & 7 & 7 & 28 & 28 & 21 & 0 & 1.33369e-10 & SLOW\\_PROGRESS \\\\\n",
       "\t13 & 7 & 7 & 28 & 28 & 21 & 0 & 5.61289e-16 & SLOW\\_PROGRESS \\\\\n",
       "\t14 & 7 & 7 & 28 & 28 & 21 & 0 & 7.19858e-13 & SLOW\\_PROGRESS \\\\\n",
       "\t15 & 7 & 7 & 28 & 28 & 21 & 0 & 5.68781e-14 & SLOW\\_PROGRESS \\\\\n",
       "\t16 & 7 & 7 & 28 & 0 & -7 & 1.13846e7 & 0.0 & SLOW\\_PROGRESS \\\\\n",
       "\t17 & 7 & 7 & 28 & 28 & 21 & 0 & 1.07052e-8 & SLOW\\_PROGRESS \\\\\n",
       "\t18 & 7 & 7 & 28 & 28 & 21 & 0 & 1.5038e-13 & SLOW\\_PROGRESS \\\\\n",
       "\t19 & 7 & 7 & 28 & 28 & 21 & 0 & 3.73083e-11 & SLOW\\_PROGRESS \\\\\n",
       "\t20 & 7 & 7 & 28 & 28 & 21 & 0 & 1.3982e-16 & SLOW\\_PROGRESS \\\\\n",
       "\t21 & 7 & 7 & 28 & 28 & 21 & 0 & 2.10574e-11 & SLOW\\_PROGRESS \\\\\n",
       "\t22 & 7 & 7 & 28 & 28 & 21 & 0 & 3.42597e-13 & SLOW\\_PROGRESS \\\\\n",
       "\t23 & 7 & 7 & 28 & 28 & 21 & 0 & 1.27755e-11 & SLOW\\_PROGRESS \\\\\n",
       "\t24 & 7 & 7 & 28 & 28 & 21 & 0 & 2.34463e-12 & SLOW\\_PROGRESS \\\\\n",
       "\t25 & 7 & 7 & 28 & 28 & 21 & 0 & 1.02733e-12 & SLOW\\_PROGRESS \\\\\n",
       "\t26 & 7 & 7 & 28 & 28 & 21 & 0 & 2.52116e-9 & SLOW\\_PROGRESS \\\\\n",
       "\t27 & 7 & 7 & 28 & 28 & 21 & 0 & 4.02593e-14 & SLOW\\_PROGRESS \\\\\n",
       "\t28 & 7 & 7 & 28 & 28 & 21 & 0 & 1.63149e-11 & SLOW\\_PROGRESS \\\\\n",
       "\t29 & 7 & 7 & 28 & 0 & -7 & 59.3644 & 0.0 & SLOW\\_PROGRESS \\\\\n",
       "\t30 & 7 & 7 & 28 & 28 & 21 & 0 & 7.94701e-10 & SLOW\\_PROGRESS \\\\\n",
       "\t$\\dots$ & $\\dots$ & $\\dots$ & $\\dots$ & $\\dots$ & $\\dots$ & $\\dots$ & $\\dots$ & $\\dots$ \\\\\n",
       "\\end{tabular}\n"
      ],
      "text/plain": [
       "\u001b[1m200×8 DataFrame\u001b[0m\n",
       "\u001b[1m Row \u001b[0m│\u001b[1m n   \u001b[0m\u001b[1m m   \u001b[0m\u001b[1m space_dim \u001b[0m\u001b[1m codim \u001b[0m\u001b[1m relative_codim \u001b[0m\u001b[1m max_nontrunc_eig \u001b[0m\u001b[1m max_trunc\u001b[0m ⋯\n",
       "\u001b[1m     \u001b[0m│\u001b[90m Any \u001b[0m\u001b[90m Any \u001b[0m\u001b[90m Any       \u001b[0m\u001b[90m Any   \u001b[0m\u001b[90m Any            \u001b[0m\u001b[90m Any              \u001b[0m\u001b[90m Any      \u001b[0m ⋯\n",
       "─────┼──────────────────────────────────────────────────────────────────────────\n",
       "   1 │ 7    7    28         28     21              0                 5.14033e- ⋯\n",
       "   2 │ 7    7    28         28     21              0                 5.40477e-\n",
       "   3 │ 7    7    28         28     21              0                 8.36882e-\n",
       "   4 │ 7    7    28         28     21              0                 1.32804e-\n",
       "   5 │ 7    7    28         28     21              0                 9.57808e- ⋯\n",
       "   6 │ 7    7    28         28     21              0                 1.88432e-\n",
       "   7 │ 7    7    28         28     21              0                 4.56176e-\n",
       "   8 │ 7    7    28         28     21              0                 9.68511e-\n",
       "   9 │ 7    7    28         28     21              0                 5.35412e- ⋯\n",
       "  10 │ 7    7    28         28     21              0                 3.41175e-\n",
       "  11 │ 7    7    28         28     21              0                 1.53542e-\n",
       "  ⋮  │  ⋮    ⋮       ⋮        ⋮          ⋮                ⋮                ⋮   ⋱\n",
       " 191 │ 7    7    28         28     21              0                 3.31324e-\n",
       " 192 │ 7    7    28         28     21              0                 2.04539e- ⋯\n",
       " 193 │ 7    7    28         28     21              0                 1.58702e-\n",
       " 194 │ 7    7    28         28     21              0                 1.0581e-1\n",
       " 195 │ 7    7    28         28     21              0                 2.04472e-\n",
       " 196 │ 7    7    28         28     21              0                 5.76788e- ⋯\n",
       " 197 │ 7    7    28         28     21              0                 4.93445e-\n",
       " 198 │ 7    7    28         28     21              0                 1.36273e-\n",
       " 199 │ 7    7    28         28     21              0                 1.5234e-1\n",
       " 200 │ 7    7    28         28     21              0                 3.36235e- ⋯\n",
       "\u001b[36m                                                  2 columns and 179 rows omitted\u001b[0m"
      ]
     },
     "execution_count": 160,
     "metadata": {},
     "output_type": "execute_result"
    }
   ],
   "source": [
    "n = 7\n",
    "df_overcomplete = DataFrame([:n=>Int[], :m=>Int[], :space_dim=>Int[], :codim=>Int[], :relative_codim=>Int[], :max_nontrunc_eig=>Float64[], :max_trunc_eig=>Float64[], :solver_status=>[]])\n",
    "for i=1:200\n",
    "    new_row, E, p, Q  = calc_face_dimension(n, n)\n",
    "    append!(df_overcomplete, new_row)\n",
    "end\n",
    "df_overcomplete"
   ]
  },
  {
   "cell_type": "code",
   "execution_count": 182,
   "metadata": {},
   "outputs": [
    {
     "data": {
      "text/plain": [
       "0.02"
      ]
     },
     "metadata": {},
     "output_type": "display_data"
    },
    {
     "data": {
      "text/html": [
       "<div class=\"data-frame\"><p>4 rows × 8 columns</p><table class=\"data-frame\"><thead><tr><th></th><th>n</th><th>m</th><th>space_dim</th><th>codim</th><th>relative_codim</th><th>max_nontrunc_eig</th><th>max_trunc_eig</th><th>solver_status</th></tr><tr><th></th><th title=\"Any\">Any</th><th title=\"Any\">Any</th><th title=\"Any\">Any</th><th title=\"Any\">Any</th><th title=\"Any\">Any</th><th title=\"Any\">Any</th><th title=\"Any\">Any</th><th title=\"Any\">Any</th></tr></thead><tbody><tr><th>1</th><td>7</td><td>7</td><td>28</td><td>7</td><td>0</td><td>4.34265</td><td>3.1847e-10</td><td>OPTIMAL</td></tr><tr><th>2</th><td>7</td><td>7</td><td>28</td><td>7</td><td>0</td><td>16.3035</td><td>1.79517e-8</td><td>OPTIMAL</td></tr><tr><th>3</th><td>7</td><td>7</td><td>28</td><td>7</td><td>0</td><td>13.7655</td><td>1.52779e-9</td><td>OPTIMAL</td></tr><tr><th>4</th><td>7</td><td>7</td><td>28</td><td>7</td><td>0</td><td>9.22386</td><td>3.1306e-8</td><td>OPTIMAL</td></tr></tbody></table></div>"
      ],
      "text/latex": [
       "\\begin{tabular}{r|cccccccc}\n",
       "\t& n & m & space\\_dim & codim & relative\\_codim & max\\_nontrunc\\_eig & max\\_trunc\\_eig & solver\\_status\\\\\n",
       "\t\\hline\n",
       "\t& Any & Any & Any & Any & Any & Any & Any & Any\\\\\n",
       "\t\\hline\n",
       "\t1 & 7 & 7 & 28 & 7 & 0 & 4.34265 & 3.1847e-10 & OPTIMAL \\\\\n",
       "\t2 & 7 & 7 & 28 & 7 & 0 & 16.3035 & 1.79517e-8 & OPTIMAL \\\\\n",
       "\t3 & 7 & 7 & 28 & 7 & 0 & 13.7655 & 1.52779e-9 & OPTIMAL \\\\\n",
       "\t4 & 7 & 7 & 28 & 7 & 0 & 9.22386 & 3.1306e-8 & OPTIMAL \\\\\n",
       "\\end{tabular}\n"
      ],
      "text/plain": [
       "\u001b[1m4×8 DataFrame\u001b[0m\n",
       "\u001b[1m Row \u001b[0m│\u001b[1m n   \u001b[0m\u001b[1m m   \u001b[0m\u001b[1m space_dim \u001b[0m\u001b[1m codim \u001b[0m\u001b[1m relative_codim \u001b[0m\u001b[1m max_nontrunc_eig \u001b[0m\u001b[1m max_trunc\u001b[0m ⋯\n",
       "\u001b[1m     \u001b[0m│\u001b[90m Any \u001b[0m\u001b[90m Any \u001b[0m\u001b[90m Any       \u001b[0m\u001b[90m Any   \u001b[0m\u001b[90m Any            \u001b[0m\u001b[90m Any              \u001b[0m\u001b[90m Any      \u001b[0m ⋯\n",
       "─────┼──────────────────────────────────────────────────────────────────────────\n",
       "   1 │ 7    7    28         7      0               4.34265           3.1847e-1 ⋯\n",
       "   2 │ 7    7    28         7      0               16.3035           1.79517e-\n",
       "   3 │ 7    7    28         7      0               13.7655           1.52779e-\n",
       "   4 │ 7    7    28         7      0               9.22386           3.1306e-8\n",
       "\u001b[36m                                                               2 columns omitted\u001b[0m"
      ]
     },
     "execution_count": 182,
     "metadata": {},
     "output_type": "execute_result"
    }
   ],
   "source": [
    "display(mean(df_overcomplete.relative_codim .== 0))\n",
    "# CSV.write(\"pointedsos-oc-200series-2.csv\", df_overcomplete)\n",
    "df_overcomplete[df_overcomplete.relative_codim .== 0, :]"
   ]
  },
  {
   "cell_type": "code",
   "execution_count": 183,
   "metadata": {},
   "outputs": [
    {
     "data": {
      "text/html": [
       "<div class=\"data-frame\"><p>800 rows × 8 columns</p><table class=\"data-frame\"><thead><tr><th></th><th>n</th><th>m</th><th>space_dim</th><th>codim</th><th>relative_codim</th><th>max_nontrunc_eig</th><th>max_trunc_eig</th><th>solver_status</th></tr><tr><th></th><th title=\"Any\">Any</th><th title=\"Any\">Any</th><th title=\"Any\">Any</th><th title=\"Any\">Any</th><th title=\"Any\">Any</th><th title=\"Any\">Any</th><th title=\"Any\">Any</th><th title=\"Any\">Any</th></tr></thead><tbody><tr><th>1</th><td>7</td><td>8</td><td>28</td><td>28</td><td>20</td><td>0</td><td>1.24814e-10</td><td>SLOW_PROGRESS</td></tr><tr><th>2</th><td>7</td><td>8</td><td>28</td><td>28</td><td>20</td><td>0</td><td>7.41853e-13</td><td>SLOW_PROGRESS</td></tr><tr><th>3</th><td>7</td><td>8</td><td>28</td><td>28</td><td>20</td><td>0</td><td>4.18347e-11</td><td>SLOW_PROGRESS</td></tr><tr><th>4</th><td>7</td><td>8</td><td>28</td><td>28</td><td>20</td><td>0</td><td>1.66043e-12</td><td>INFEASIBLE</td></tr><tr><th>5</th><td>7</td><td>8</td><td>28</td><td>28</td><td>20</td><td>0</td><td>2.85061e-11</td><td>SLOW_PROGRESS</td></tr><tr><th>6</th><td>7</td><td>8</td><td>28</td><td>28</td><td>20</td><td>0</td><td>6.61153e-10</td><td>SLOW_PROGRESS</td></tr><tr><th>7</th><td>7</td><td>8</td><td>28</td><td>28</td><td>20</td><td>0</td><td>3.82349e-12</td><td>INFEASIBLE</td></tr><tr><th>8</th><td>7</td><td>8</td><td>28</td><td>28</td><td>20</td><td>0</td><td>1.29049e-12</td><td>SLOW_PROGRESS</td></tr><tr><th>9</th><td>7</td><td>8</td><td>28</td><td>28</td><td>20</td><td>0</td><td>1.45976e-11</td><td>INFEASIBLE</td></tr><tr><th>10</th><td>7</td><td>8</td><td>28</td><td>28</td><td>20</td><td>0</td><td>1.84938e-13</td><td>SLOW_PROGRESS</td></tr><tr><th>11</th><td>7</td><td>8</td><td>28</td><td>28</td><td>20</td><td>0</td><td>2.69363e-10</td><td>SLOW_PROGRESS</td></tr><tr><th>12</th><td>7</td><td>8</td><td>28</td><td>28</td><td>20</td><td>0</td><td>2.4227e-9</td><td>INFEASIBLE</td></tr><tr><th>13</th><td>7</td><td>8</td><td>28</td><td>28</td><td>20</td><td>0</td><td>1.27753e-12</td><td>SLOW_PROGRESS</td></tr><tr><th>14</th><td>7</td><td>8</td><td>28</td><td>28</td><td>20</td><td>0</td><td>2.38859e-13</td><td>INFEASIBLE</td></tr><tr><th>15</th><td>7</td><td>8</td><td>28</td><td>28</td><td>20</td><td>0</td><td>1.42667e-10</td><td>SLOW_PROGRESS</td></tr><tr><th>16</th><td>7</td><td>8</td><td>28</td><td>28</td><td>20</td><td>0</td><td>1.28423e-11</td><td>SLOW_PROGRESS</td></tr><tr><th>17</th><td>7</td><td>8</td><td>28</td><td>28</td><td>20</td><td>0</td><td>7.59208e-14</td><td>SLOW_PROGRESS</td></tr><tr><th>18</th><td>7</td><td>8</td><td>28</td><td>28</td><td>20</td><td>0</td><td>2.63711e-9</td><td>INFEASIBLE</td></tr><tr><th>19</th><td>7</td><td>8</td><td>28</td><td>28</td><td>20</td><td>0</td><td>1.30026e-13</td><td>SLOW_PROGRESS</td></tr><tr><th>20</th><td>7</td><td>8</td><td>28</td><td>28</td><td>20</td><td>0</td><td>7.72217e-9</td><td>INFEASIBLE</td></tr><tr><th>21</th><td>7</td><td>8</td><td>28</td><td>28</td><td>20</td><td>0</td><td>3.83977e-13</td><td>INFEASIBLE</td></tr><tr><th>22</th><td>7</td><td>8</td><td>28</td><td>28</td><td>20</td><td>0</td><td>1.88737e-12</td><td>SLOW_PROGRESS</td></tr><tr><th>23</th><td>7</td><td>8</td><td>28</td><td>28</td><td>20</td><td>0</td><td>4.10043e-8</td><td>SLOW_PROGRESS</td></tr><tr><th>24</th><td>7</td><td>8</td><td>28</td><td>28</td><td>20</td><td>0</td><td>1.14247e-9</td><td>INFEASIBLE</td></tr><tr><th>25</th><td>7</td><td>8</td><td>28</td><td>28</td><td>20</td><td>0</td><td>2.44898e-11</td><td>SLOW_PROGRESS</td></tr><tr><th>26</th><td>7</td><td>8</td><td>28</td><td>28</td><td>20</td><td>0</td><td>1.65461e-10</td><td>SLOW_PROGRESS</td></tr><tr><th>27</th><td>7</td><td>8</td><td>28</td><td>28</td><td>20</td><td>0</td><td>1.07445e-12</td><td>INFEASIBLE</td></tr><tr><th>28</th><td>7</td><td>8</td><td>28</td><td>28</td><td>20</td><td>0</td><td>4.25857e-16</td><td>SLOW_PROGRESS</td></tr><tr><th>29</th><td>7</td><td>8</td><td>28</td><td>28</td><td>20</td><td>0</td><td>7.98077e-11</td><td>SLOW_PROGRESS</td></tr><tr><th>30</th><td>7</td><td>8</td><td>28</td><td>28</td><td>20</td><td>0</td><td>7.07272e-10</td><td>SLOW_PROGRESS</td></tr><tr><th>&vellip;</th><td>&vellip;</td><td>&vellip;</td><td>&vellip;</td><td>&vellip;</td><td>&vellip;</td><td>&vellip;</td><td>&vellip;</td><td>&vellip;</td></tr></tbody></table></div>"
      ],
      "text/latex": [
       "\\begin{tabular}{r|cccccccc}\n",
       "\t& n & m & space\\_dim & codim & relative\\_codim & max\\_nontrunc\\_eig & max\\_trunc\\_eig & solver\\_status\\\\\n",
       "\t\\hline\n",
       "\t& Any & Any & Any & Any & Any & Any & Any & Any\\\\\n",
       "\t\\hline\n",
       "\t1 & 7 & 8 & 28 & 28 & 20 & 0 & 1.24814e-10 & SLOW\\_PROGRESS \\\\\n",
       "\t2 & 7 & 8 & 28 & 28 & 20 & 0 & 7.41853e-13 & SLOW\\_PROGRESS \\\\\n",
       "\t3 & 7 & 8 & 28 & 28 & 20 & 0 & 4.18347e-11 & SLOW\\_PROGRESS \\\\\n",
       "\t4 & 7 & 8 & 28 & 28 & 20 & 0 & 1.66043e-12 & INFEASIBLE \\\\\n",
       "\t5 & 7 & 8 & 28 & 28 & 20 & 0 & 2.85061e-11 & SLOW\\_PROGRESS \\\\\n",
       "\t6 & 7 & 8 & 28 & 28 & 20 & 0 & 6.61153e-10 & SLOW\\_PROGRESS \\\\\n",
       "\t7 & 7 & 8 & 28 & 28 & 20 & 0 & 3.82349e-12 & INFEASIBLE \\\\\n",
       "\t8 & 7 & 8 & 28 & 28 & 20 & 0 & 1.29049e-12 & SLOW\\_PROGRESS \\\\\n",
       "\t9 & 7 & 8 & 28 & 28 & 20 & 0 & 1.45976e-11 & INFEASIBLE \\\\\n",
       "\t10 & 7 & 8 & 28 & 28 & 20 & 0 & 1.84938e-13 & SLOW\\_PROGRESS \\\\\n",
       "\t11 & 7 & 8 & 28 & 28 & 20 & 0 & 2.69363e-10 & SLOW\\_PROGRESS \\\\\n",
       "\t12 & 7 & 8 & 28 & 28 & 20 & 0 & 2.4227e-9 & INFEASIBLE \\\\\n",
       "\t13 & 7 & 8 & 28 & 28 & 20 & 0 & 1.27753e-12 & SLOW\\_PROGRESS \\\\\n",
       "\t14 & 7 & 8 & 28 & 28 & 20 & 0 & 2.38859e-13 & INFEASIBLE \\\\\n",
       "\t15 & 7 & 8 & 28 & 28 & 20 & 0 & 1.42667e-10 & SLOW\\_PROGRESS \\\\\n",
       "\t16 & 7 & 8 & 28 & 28 & 20 & 0 & 1.28423e-11 & SLOW\\_PROGRESS \\\\\n",
       "\t17 & 7 & 8 & 28 & 28 & 20 & 0 & 7.59208e-14 & SLOW\\_PROGRESS \\\\\n",
       "\t18 & 7 & 8 & 28 & 28 & 20 & 0 & 2.63711e-9 & INFEASIBLE \\\\\n",
       "\t19 & 7 & 8 & 28 & 28 & 20 & 0 & 1.30026e-13 & SLOW\\_PROGRESS \\\\\n",
       "\t20 & 7 & 8 & 28 & 28 & 20 & 0 & 7.72217e-9 & INFEASIBLE \\\\\n",
       "\t21 & 7 & 8 & 28 & 28 & 20 & 0 & 3.83977e-13 & INFEASIBLE \\\\\n",
       "\t22 & 7 & 8 & 28 & 28 & 20 & 0 & 1.88737e-12 & SLOW\\_PROGRESS \\\\\n",
       "\t23 & 7 & 8 & 28 & 28 & 20 & 0 & 4.10043e-8 & SLOW\\_PROGRESS \\\\\n",
       "\t24 & 7 & 8 & 28 & 28 & 20 & 0 & 1.14247e-9 & INFEASIBLE \\\\\n",
       "\t25 & 7 & 8 & 28 & 28 & 20 & 0 & 2.44898e-11 & SLOW\\_PROGRESS \\\\\n",
       "\t26 & 7 & 8 & 28 & 28 & 20 & 0 & 1.65461e-10 & SLOW\\_PROGRESS \\\\\n",
       "\t27 & 7 & 8 & 28 & 28 & 20 & 0 & 1.07445e-12 & INFEASIBLE \\\\\n",
       "\t28 & 7 & 8 & 28 & 28 & 20 & 0 & 4.25857e-16 & SLOW\\_PROGRESS \\\\\n",
       "\t29 & 7 & 8 & 28 & 28 & 20 & 0 & 7.98077e-11 & SLOW\\_PROGRESS \\\\\n",
       "\t30 & 7 & 8 & 28 & 28 & 20 & 0 & 7.07272e-10 & SLOW\\_PROGRESS \\\\\n",
       "\t$\\dots$ & $\\dots$ & $\\dots$ & $\\dots$ & $\\dots$ & $\\dots$ & $\\dots$ & $\\dots$ & $\\dots$ \\\\\n",
       "\\end{tabular}\n"
      ],
      "text/plain": [
       "\u001b[1m800×8 DataFrame\u001b[0m\n",
       "\u001b[1m Row \u001b[0m│\u001b[1m n   \u001b[0m\u001b[1m m   \u001b[0m\u001b[1m space_dim \u001b[0m\u001b[1m codim \u001b[0m\u001b[1m relative_codim \u001b[0m\u001b[1m max_nontrunc_eig \u001b[0m\u001b[1m max_trunc\u001b[0m ⋯\n",
       "\u001b[1m     \u001b[0m│\u001b[90m Any \u001b[0m\u001b[90m Any \u001b[0m\u001b[90m Any       \u001b[0m\u001b[90m Any   \u001b[0m\u001b[90m Any            \u001b[0m\u001b[90m Any              \u001b[0m\u001b[90m Any      \u001b[0m ⋯\n",
       "─────┼──────────────────────────────────────────────────────────────────────────\n",
       "   1 │ 7    8    28         28     20              0                 1.24814e- ⋯\n",
       "   2 │ 7    8    28         28     20              0                 7.41853e-\n",
       "   3 │ 7    8    28         28     20              0                 4.18347e-\n",
       "   4 │ 7    8    28         28     20              0                 1.66043e-\n",
       "   5 │ 7    8    28         28     20              0                 2.85061e- ⋯\n",
       "   6 │ 7    8    28         28     20              0                 6.61153e-\n",
       "   7 │ 7    8    28         28     20              0                 3.82349e-\n",
       "   8 │ 7    8    28         28     20              0                 1.29049e-\n",
       "   9 │ 7    8    28         28     20              0                 1.45976e- ⋯\n",
       "  10 │ 7    8    28         28     20              0                 1.84938e-\n",
       "  11 │ 7    8    28         28     20              0                 2.69363e-\n",
       "  ⋮  │  ⋮    ⋮       ⋮        ⋮          ⋮                ⋮                ⋮   ⋱\n",
       " 791 │ 7    8    28         28     20              0                 9.45395e-\n",
       " 792 │ 7    8    28         28     20              0                 6.18568e- ⋯\n",
       " 793 │ 7    8    28         28     20              0                 1.16799e-\n",
       " 794 │ 7    8    28         28     20              0                 4.45293e-\n",
       " 795 │ 7    8    28         28     20              0                 4.75172e-\n",
       " 796 │ 7    8    28         28     20              0                 2.11575e- ⋯\n",
       " 797 │ 7    8    28         28     20              0                 2.82458e-\n",
       " 798 │ 7    8    28         28     20              0                 7.99673e-\n",
       " 799 │ 7    8    28         28     20              0                 1.62621e-\n",
       " 800 │ 7    8    28         28     20              0                 2.62462e- ⋯\n",
       "\u001b[36m                                                  2 columns and 779 rows omitted\u001b[0m"
      ]
     },
     "execution_count": 183,
     "metadata": {},
     "output_type": "execute_result"
    }
   ],
   "source": [
    "n = 7\n",
    "df_overcomplete2 = DataFrame([:n=>Int[], :m=>Int[], :space_dim=>Int[], :codim=>Int[], :relative_codim=>Int[], :max_nontrunc_eig=>Float64[], :max_trunc_eig=>Float64[], :solver_status=>[]])\n",
    "for i=1:800\n",
    "    new_row, E, p, Q  = calc_face_dimension(n, n+1)\n",
    "    append!(df_overcomplete2, new_row)\n",
    "end\n",
    "df_overcomplete2"
   ]
  },
  {
   "cell_type": "code",
   "execution_count": 189,
   "metadata": {},
   "outputs": [
    {
     "data": {
      "text/plain": [
       "0.0"
      ]
     },
     "metadata": {},
     "output_type": "display_data"
    },
    {
     "data": {
      "text/html": [
       "<div class=\"data-frame\"><p>0 rows × 8 columns</p><table class=\"data-frame\"><thead><tr><th></th><th>n</th><th>m</th><th>space_dim</th><th>codim</th><th>relative_codim</th><th>max_nontrunc_eig</th><th>max_trunc_eig</th><th>solver_status</th></tr><tr><th></th><th title=\"Any\">Any</th><th title=\"Any\">Any</th><th title=\"Any\">Any</th><th title=\"Any\">Any</th><th title=\"Any\">Any</th><th title=\"Any\">Any</th><th title=\"Any\">Any</th><th title=\"Any\">Any</th></tr></thead><tbody></tbody></table></div>"
      ],
      "text/latex": [
       "\\begin{tabular}{r|cccccccc}\n",
       "\t& n & m & space\\_dim & codim & relative\\_codim & max\\_nontrunc\\_eig & max\\_trunc\\_eig & solver\\_status\\\\\n",
       "\t\\hline\n",
       "\t& Any & Any & Any & Any & Any & Any & Any & Any\\\\\n",
       "\t\\hline\n",
       "\\end{tabular}\n"
      ],
      "text/plain": [
       "\u001b[1m0×8 DataFrame\u001b[0m"
      ]
     },
     "execution_count": 189,
     "metadata": {},
     "output_type": "execute_result"
    }
   ],
   "source": [
    "display(mean(df_overcomplete2.relative_codim .== 0))\n",
    "# CSV.write(\"pointedsos-oc-800series-3.csv\", df_overcomplete2)\n",
    "df_overcomplete2[df_overcomplete2.relative_codim .== 0, :]"
   ]
  }
 ],
 "metadata": {
  "kernelspec": {
   "display_name": "Julia 1.6.3",
   "language": "julia",
   "name": "julia-1.6"
  },
  "language_info": {
   "file_extension": ".jl",
   "mimetype": "application/julia",
   "name": "julia",
   "version": "1.6.3"
  }
 },
 "nbformat": 4,
 "nbformat_minor": 4
}
