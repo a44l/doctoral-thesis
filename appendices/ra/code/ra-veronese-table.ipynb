{
 "cells": [
  {
   "cell_type": "markdown",
   "metadata": {},
   "source": [
    "## RA Veronese Table\n",
    "\n",
    "This script computes the solutions of optimization problems of the type $(L\\pi)_{s}$, which were introduced in `Chapter 4` in the thesis, where\n",
    "$$\n",
    "s\\colon (\\mathbb R^n)^m \\to S^d(\\mathbb R^n), (x_1,\\ldots, x_m) \\mapsto \\sum_{i=1}^m x_i^{\\otimes d}\n",
    "$$\n",
    "parametrizes a Zariski dense subset of the $m$-th secant of the Veronese variety in degree $d\\in \\mathbb N$. In `Chapter 4`, we studied this map for $d \\in \\{2, 3\\}$. "
   ]
  },
  {
   "cell_type": "code",
   "execution_count": 1,
   "metadata": {},
   "outputs": [],
   "source": [
    "using JuMP, COSMO, MosekTools, DynamicPolynomials, LinearAlgebra, SparseArrays, SuiteSparse, StatsBase\n",
    "using DataFrames, CSV, JLD2, FileIO\n",
    "include(\"veronese.jl\");\n"
   ]
  },
  {
   "cell_type": "code",
   "execution_count": 2,
   "metadata": {},
   "outputs": [
    {
     "data": {
      "text/plain": [
       "compute_projection (generic function with 2 methods)"
      ]
     },
     "execution_count": 2,
     "metadata": {},
     "output_type": "execute_result"
    }
   ],
   "source": [
    "function compute_projection(vars, vars2, s, u, ε, K=d)\n",
    "    mon(k) = reverse(monomials(vars2, 0:k))\n",
    "    model = Model(Mosek.Optimizer)\n",
    "    N = length(mon(2K))\n",
    "    @variable(model, λ[1:N])\n",
    "    lin_vars = Dict([monom=>value for (monom, value) in zip(mon(2K),  λ[1:N])] )\n",
    "    𝔼(p) = coefficients(p, collect(keys(lin_vars))) ⋅ collect(values(lin_vars))\n",
    "    linearize_moment_matrix = function(moment_matrix)\n",
    "        return [lin_vars[m] for m in moment_matrix];\n",
    "    end\n",
    "    @constraint(model, linearize_moment_matrix(mon(K)*mon(K)') in PSDCone());\n",
    "    q = ε^2 - (s(vars) - u)⋅(s(vars) - u)\n",
    "    @constraint(model, 𝔼(vars2[1]^0) == 1)\n",
    "    if K == d\n",
    "        @constraint(model, 𝔼(q) >= 0)\n",
    "    else \n",
    "        @constraint(model, 𝔼.(q.*mon(K-d)*mon(K-d)') in PSDCone())\n",
    "    end\n",
    "    @objective(model, Min, 𝔼((s(vars) - u)⋅(s(vars) - u)))\n",
    "    #MOI.set(model, MOI.Silent(), true);\n",
    "    optimize!(model)\n",
    "    opt = value.(𝔼((s(vars) - u)⋅(s(vars) - u)));\n",
    "    avg_x = value.(𝔼.(vars2));\n",
    "    avg_z = value.(𝔼.(s(vars)));\n",
    "    return avg_z, avg_x, opt, model\n",
    "end"
   ]
  },
  {
   "cell_type": "code",
   "execution_count": 3,
   "metadata": {},
   "outputs": [
    {
     "data": {
      "text/plain": [
       "#27 (generic function with 1 method)"
      ]
     },
     "execution_count": 3,
     "metadata": {},
     "output_type": "execute_result"
    }
   ],
   "source": [
    "const d = 3;\n",
    "create_projection_instance = function(m, n, ε; random=false, K=d, write=true)\n",
    "    # define a parameterized variety (here, m-th secant of n-dim 3rd veronese)\n",
    "    @polyvar Z[1:n]\n",
    "    mon_Zd = monomials(Z, d);\n",
    "    @polyvar X[1:m, 1:n];\n",
    "    @polyvar X0[1:n];\n",
    "    e = [eachcol(Matrix(I, n, n))...]\n",
    "    vecX = [X[i, :] for i=1:m]\n",
    "    s0(x) = (Z⋅x)^d\n",
    "    Js0(x, h) = (Z⋅x)^(d-1) * (h⋅Z)\n",
    "    s_polys = [subs(p, Z=>ones(n)) for p in terms(s0(X0))]\n",
    "    s(x) = sum([p(X0=>x[i]) for p in s_polys] for i=1:m)\n",
    "\n",
    "    # define parameters\n",
    "    if random\n",
    "        x0 = [randn(n) for i=1:m]; \n",
    "    else\n",
    "        x0 = e[1:m];\n",
    "    end\n",
    "    z0 = s(x0);\n",
    "    u = z0 + ε.*ν(x0, d, Z, n) ; # starting point  \n",
    "    time = @elapsed z, x, opt, model = compute_projection(vecX, vec(X), s, u, 2ε, K)\n",
    "    if random \n",
    "        filepath_csv = \"data/veronese-deg$(d)-random-raw-$(n)$(m).csv\";\n",
    "        filepath_jld = \"data/veronese-deg$(d)-random-raw-$(n)$(m).jld2\";\n",
    "    else\n",
    "        filepath_csv = \"data/veronese-deg$(d)-raw-$(n)$(m).csv\";\n",
    "        filepath_jld = \"data/veronese-deg$(d)-raw-$(n)$(m).jld2\";\n",
    "    end\n",
    "    \n",
    "    id = 1;\n",
    "    if isfile(filepath_csv)\n",
    "        df = CSV.read(filepath_csv, DataFrame);\n",
    "        id = max(df.id...)+1;\n",
    "    else\n",
    "        df = DataFrame(:id=>Int[], :d=>Int[], :n=>Int[], :m=>Int[], :K=>Int[], :ε=>Float64[], :time=>Float64[], :exact=>Bool[], :sqerror=>Float64[], :optval=>Float64[], :dist_after_rounding=>Float64[], :ν=>[])\n",
    "        CSV.write(filepath_csv, df);\n",
    "    end\n",
    "    \n",
    "    exact = norm(z-z0)^2<10^(-7);\n",
    "    sqerror = norm(z-z0)^2;\n",
    "    dist_after_rounding = norm(z-u)^2;\n",
    "    if random \n",
    "        new_row = DataFrame(:id=>[id], :d=>[d], :n=>[n], :m=>[m], :K=>[K], :ε=>[2ε], :time=>[time], :exact=>[exact], :sqerror=>[sqerror], :optval=>[opt], :dist_after_rounding=>[dist_after_rounding], :u=>[u], :z=>[z], :z0=>[z0])\n",
    "    else\n",
    "        new_row = DataFrame(:id=>[id], :d=>[d], :n=>[n], :m=>[m], :K=>[K], :ε=>[2ε], :time=>[time], :exact=>[exact], :sqerror=>[sqerror], :optval=>[opt], :dist_after_rounding=>[dist_after_rounding], :ν=>[u-z0])\n",
    "    end\n",
    "    if write\n",
    "        CSV.write(filepath_csv, new_row; append=true);\n",
    "    end\n",
    "   \n",
    "#    if random \n",
    "#        save(filepath_jld, Dict(\"model_$(id)\" => model, \"z0_$(id)\" => z0, \"u_$(id)\" => u,  \"z_$(id)\" => z))\n",
    "#    else\n",
    "#        save(filepath_jld, Dict(\"model_$(id)\" => model, \"ν_$(id)\" => ν(x0, d, Z, n), \"u_$(id)\" => u,  \"z_$(id)\" => z))\n",
    "#    end\n",
    "    return model, z, z0, u, opt\n",
    "end"
   ]
  },
  {
   "cell_type": "code",
   "execution_count": 4,
   "metadata": {},
   "outputs": [
    {
     "name": "stdout",
     "output_type": "stream",
     "text": [
      "Problem\n",
      "  Name                   :                 \n",
      "  Objective sense        : min             \n",
      "  Type                   : CONIC (conic optimization problem)\n",
      "  Constraints            : 212             \n",
      "  Cones                  : 0               \n",
      "  Scalar variables       : 84              \n",
      "  Matrix variables       : 1               \n",
      "  Integer variables      : 0               \n",
      "\n",
      "Optimizer started.\n",
      "Presolve started.\n",
      "Linear dependency checker started.\n",
      "Linear dependency checker terminated.\n",
      "Eliminator started.\n",
      "Freed constraints in eliminator : 0\n",
      "Eliminator terminated.\n",
      "Eliminator started.\n",
      "Freed constraints in eliminator : 0\n",
      "Eliminator terminated.\n",
      "Eliminator - tries                  : 2                 time                   : 0.00            \n",
      "Lin. dep.  - tries                  : 1                 time                   : 0.00            \n",
      "Lin. dep.  - number                 : 0               \n",
      "Presolve terminated. Time: 0.00    \n",
      "Problem\n",
      "  Name                   :                 \n",
      "  Objective sense        : min             \n",
      "  Type                   : CONIC (conic optimization problem)\n",
      "  Constraints            : 212             \n",
      "  Cones                  : 0               \n",
      "  Scalar variables       : 84              \n",
      "  Matrix variables       : 1               \n",
      "  Integer variables      : 0               \n",
      "\n",
      "Optimizer  - threads                : 4               \n",
      "Optimizer  - solved problem         : the primal      \n",
      "Optimizer  - Constraints            : 211\n",
      "Optimizer  - Cones                  : 1\n",
      "Optimizer  - Scalar variables       : 85                conic                  : 84              \n",
      "Optimizer  - Semi-definite variables: 1                 scalarized             : 210             \n",
      "Factor     - setup time             : 0.00              dense det. time        : 0.00            \n",
      "Factor     - ML order time          : 0.00              GP order time          : 0.00            \n",
      "Factor     - nonzeros before factor : 2.24e+04          after factor           : 2.24e+04        \n",
      "Factor     - dense dim.             : 2                 flops                  : 3.32e+06        \n",
      "ITE PFEAS    DFEAS    GFEAS    PRSTATUS   POBJ              DOBJ              MU       TIME  \n",
      "0   1.0e+00  3.6e+01  1.0e+00  0.00e+00   1.000400000e+00   1.000400000e+00   1.0e+00  0.02  \n",
      "1   1.3e-01  4.7e+00  2.6e-01  -8.81e-01  -7.116145858e+00  -3.596787586e+00  1.3e-01  0.03  \n",
      "2   1.9e-02  7.0e-01  2.1e-03  9.87e-01   -7.170077539e-01  -7.824539615e-01  1.9e-02  0.03  \n",
      "3   1.9e-03  7.0e-02  6.6e-05  9.98e-01   7.703621691e-04   -5.863563866e-03  1.9e-03  0.03  \n",
      "4   2.1e-05  7.5e-04  9.8e-08  9.69e-01   2.808327937e-04   2.181557583e-04   2.1e-05  0.04  \n",
      "5   4.9e-07  1.8e-05  2.5e-10  1.05e+00   3.799401145e-04   3.783327691e-04   4.9e-07  0.04  \n",
      "6   2.1e-09  5.7e-08  3.8e-14  1.09e+00   3.999313864e-04   3.999263141e-04   1.6e-09  0.04  \n",
      "Optimizer terminated. Time: 0.05    \n",
      "\n"
     ]
    }
   ],
   "source": [
    "# #df = CSV.read(filepath_csv, DataFrame);\n",
    "df = DataFrame(:n=>Int[], :m=>Int[], :K=>Int[], :ε=>Float64[], :avgtime=>Float64[], :avgexact=>Int[], :avgsqerror => Float64[], :nsamples=>Int64[]) \n",
    "filepath_csv = \"data/veronese-deg$(d).csv\";\n",
    "CSV.write(filepath_csv, df);\n",
    "\n",
    "\n",
    "for n = 3:3\n",
    "    for m=1:1\n",
    "        df_raw = DataFrame();\n",
    "        nsamples = 1;\n",
    "        ε = 0.02;\n",
    "        K = d;\n",
    "        for k = 1:nsamples\n",
    "            #append!(df_raw, create_projection_instance(m, n, ε; random=false));\n",
    "            create_projection_instance(m, n, ε; random=false, K=K);\n",
    "        end\n",
    "        if false #(m==n && n≠3) || (n == 4 && m>=3)\n",
    "           continue; \n",
    "        end\n",
    "        df_raw = CSV.read(\"data/veronese-deg$(d)-raw-$(n)$(m).csv\", DataFrame);\n",
    "        avgtime = mean(df_raw.time)\n",
    "        avgexact = mean(df_raw.exact)\n",
    "        avgsqerror = mean(df_raw.sqerror)\n",
    "        nsamples_total = size(df_raw, 1);\n",
    "        new_row = DataFrame(:n=>[n], :m=>[m], :K=>[K], :ε=>[ε], :avgtime=>[avgtime], :avgexact=>[avgexact], :avgsqerror =>[avgsqerror], :nsamples=>[nsamples_total])\n",
    "        CSV.write(filepath_csv, new_row; append=true);\n",
    "    end\n",
    "end\n",
    "        "
   ]
  }
 ],
 "metadata": {
  "kernelspec": {
   "display_name": "Julia 1.6.3",
   "language": "julia",
   "name": "julia-1.6"
  },
  "language_info": {
   "file_extension": ".jl",
   "mimetype": "application/julia",
   "name": "julia",
   "version": "1.6.3"
  }
 },
 "nbformat": 4,
 "nbformat_minor": 4
}
